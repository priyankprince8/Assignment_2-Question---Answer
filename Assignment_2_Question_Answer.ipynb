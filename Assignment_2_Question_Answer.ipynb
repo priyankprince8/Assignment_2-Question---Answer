{
  "nbformat": 4,
  "nbformat_minor": 0,
  "metadata": {
    "colab": {
      "provenance": []
    },
    "kernelspec": {
      "name": "python3",
      "display_name": "Python 3"
    },
    "language_info": {
      "name": "python"
    }
  },
  "cells": [
    {
      "cell_type": "code",
      "execution_count": 14,
      "metadata": {
        "id": "KHMjhC7uohe8"
      },
      "outputs": [],
      "source": [
        "#Question 1\n",
        "def array_pair_sum(nums):\n",
        "    nums.sort()\n",
        "    max_sum = 0\n",
        "    for i in range(0, len(nums), 2):\n",
        "        max_sum += nums[i]\n",
        "    return max_sum"
      ]
    },
    {
      "cell_type": "code",
      "source": [
        "nums = [1, 4, 3, 2]\n",
        "maximized_sum = array_pair_sum(nums)\n",
        "print(maximized_sum)\n"
      ],
      "metadata": {
        "colab": {
          "base_uri": "https://localhost:8080/"
        },
        "id": "POH78upLrJOv",
        "outputId": "7f97de26-65f3-45ff-a4a2-f4152de91ea1"
      },
      "execution_count": 15,
      "outputs": [
        {
          "output_type": "stream",
          "name": "stdout",
          "text": [
            "4\n"
          ]
        }
      ]
    },
    {
      "cell_type": "code",
      "source": [
        "#Question 2\n",
        "def max_Candies(candyType):\n",
        "    unique_candies = set()\n",
        "    for candy in candyType:\n",
        "        unique_candies.add(candy)\n",
        "    unique_count = len(unique_candies)\n",
        "    max_eat = len(candyType) // 2\n",
        "    return min(unique_count, max_eat)\n"
      ],
      "metadata": {
        "id": "-PYu_PcmtUEY"
      },
      "execution_count": 17,
      "outputs": []
    },
    {
      "cell_type": "code",
      "source": [
        "candyType = [1, 1, 2, 2, 3, 3]\n",
        "max_candies_no = max_Candies(candyType)\n",
        "print(max_candies_no)\n"
      ],
      "metadata": {
        "colab": {
          "base_uri": "https://localhost:8080/"
        },
        "id": "syuaPfoJu92t",
        "outputId": "b4a3bb52-cc14-449c-b00d-c76b268335f3"
      },
      "execution_count": 18,
      "outputs": [
        {
          "output_type": "stream",
          "name": "stdout",
          "text": [
            "3\n"
          ]
        }
      ]
    },
    {
      "cell_type": "code",
      "source": [
        "#Question 3\n",
        "def Longest_harmounious_sub(nums):\n",
        "    numCount = {}\n",
        "    maxLen = 0\n",
        "\n",
        "    for num in nums:\n",
        "        if num in numCount:\n",
        "            numCount[num] += 1\n",
        "        else:\n",
        "            numCount[num] = 1\n",
        "\n",
        "    for num in numCount:\n",
        "        if num + 1 in numCount:\n",
        "            currLen = numCount[num] + numCount[num + 1]\n",
        "            maxLen = max(maxLen, currLen)\n",
        "\n",
        "    return maxLen\n"
      ],
      "metadata": {
        "id": "2ycQ6FOCxWG-"
      },
      "execution_count": 22,
      "outputs": []
    },
    {
      "cell_type": "code",
      "source": [
        "nums = [1, 3, 2, 2, 5, 2, 3, 7]\n",
        "result = Longest_harmounious_sub(nums)\n",
        "print(result)  \n"
      ],
      "metadata": {
        "colab": {
          "base_uri": "https://localhost:8080/"
        },
        "id": "QIvBMVSGyHAF",
        "outputId": "9cfa5e28-5d93-4d8b-e26a-a7acd11c26d3"
      },
      "execution_count": 23,
      "outputs": [
        {
          "output_type": "stream",
          "name": "stdout",
          "text": [
            "5\n"
          ]
        }
      ]
    },
    {
      "cell_type": "code",
      "source": [
        "#Question 4\n",
        "def canPlaceFlowers(flowerbed, n):\n",
        "    count = 0\n",
        "    size = len(flowerbed)\n",
        "    i = 0\n",
        "\n",
        "    while i < size:\n",
        "        if (\n",
        "            flowerbed[i] == 0 and\n",
        "            (i == 0 or flowerbed[i - 1] == 0) and\n",
        "            (i == size - 1 or flowerbed[i + 1] == 0)\n",
        "        ):\n",
        "            flowerbed[i] = 1\n",
        "            count += 1\n",
        "            i += 1  \n",
        "        if count >= n:\n",
        "            return True\n",
        "        i += 1\n",
        "\n",
        "    return False\n"
      ],
      "metadata": {
        "id": "9cD6eda9yJss"
      },
      "execution_count": 24,
      "outputs": []
    },
    {
      "cell_type": "code",
      "source": [
        "flowerbed = [1, 0, 0, 0, 1]\n",
        "n = 1\n",
        "result = canPlaceFlowers(flowerbed, n)\n",
        "print(result)  \n"
      ],
      "metadata": {
        "colab": {
          "base_uri": "https://localhost:8080/"
        },
        "id": "zqDRns8rzmjN",
        "outputId": "c968b46b-f611-4fe9-f329-8821072fce08"
      },
      "execution_count": 25,
      "outputs": [
        {
          "output_type": "stream",
          "name": "stdout",
          "text": [
            "True\n"
          ]
        }
      ]
    },
    {
      "cell_type": "code",
      "source": [
        "#Question 5\n",
        "def maximum_product(nums):\n",
        "    nums.sort()\n",
        "    n = len(nums)\n",
        "    product1 = nums[n - 1] * nums[n - 2] * nums[n - 3]\n",
        "    product2 = nums[0] * nums[1] * nums[n - 1]\n",
        "    return max(product1, product2)\n"
      ],
      "metadata": {
        "id": "IEZjBqH6zqdG"
      },
      "execution_count": 31,
      "outputs": []
    },
    {
      "cell_type": "code",
      "source": [
        "nums = [ 1, 2, 3 ]\n",
        "result = maximum_product(nums)\n",
        "print(result) \n"
      ],
      "metadata": {
        "colab": {
          "base_uri": "https://localhost:8080/"
        },
        "id": "ESTLlGQ60I4p",
        "outputId": "76f93402-52c8-4b30-c804-618d4517be52"
      },
      "execution_count": 33,
      "outputs": [
        {
          "output_type": "stream",
          "name": "stdout",
          "text": [
            "6\n"
          ]
        }
      ]
    },
    {
      "cell_type": "code",
      "source": [
        "#Question 6\n",
        "def search(nums, target):\n",
        "    left = 0\n",
        "    right = len(nums) - 1\n",
        "\n",
        "    while left <= right:\n",
        "        mid = left + (right - left) // 2\n",
        "\n",
        "        if nums[mid] == target:\n",
        "            return mid\n",
        "        elif nums[mid] < target:\n",
        "            left = mid + 1\n",
        "        else:\n",
        "            right = mid - 1\n",
        "\n",
        "    return -1\n"
      ],
      "metadata": {
        "id": "UsMar6MX0Jlf"
      },
      "execution_count": 34,
      "outputs": []
    },
    {
      "cell_type": "code",
      "source": [
        "nums = [-1, 0, 3, 5, 9, 12]\n",
        "target = 9\n",
        "result = search(nums, target)\n",
        "print(result) \n"
      ],
      "metadata": {
        "colab": {
          "base_uri": "https://localhost:8080/"
        },
        "id": "ENUSycRw03Ch",
        "outputId": "a96490f3-308b-4e7a-cc62-47299980a598"
      },
      "execution_count": 36,
      "outputs": [
        {
          "output_type": "stream",
          "name": "stdout",
          "text": [
            "4\n"
          ]
        }
      ]
    },
    {
      "cell_type": "code",
      "source": [
        "#Question 7\n",
        "def Monotonic(nums):\n",
        "    increasing = True\n",
        "    decreasing = True\n",
        "\n",
        "    for i in range(1, len(nums)):\n",
        "        if nums[i] > nums[i - 1]:\n",
        "            decreasing = False\n",
        "        elif nums[i] < nums[i - 1]:\n",
        "            increasing = False\n",
        "\n",
        "    return increasing or decreasing\n"
      ],
      "metadata": {
        "id": "RZK2xI5O05vX"
      },
      "execution_count": 37,
      "outputs": []
    },
    {
      "cell_type": "code",
      "source": [
        "nums = [1, 2, 3, 4, 5]\n",
        "result = Monotonic(nums)\n",
        "print(result) \n"
      ],
      "metadata": {
        "colab": {
          "base_uri": "https://localhost:8080/"
        },
        "id": "U76a-O-M1UdJ",
        "outputId": "5d689646-680f-4b5f-ee52-a048932c6ae0"
      },
      "execution_count": 38,
      "outputs": [
        {
          "output_type": "stream",
          "name": "stdout",
          "text": [
            "True\n"
          ]
        }
      ]
    },
    {
      "cell_type": "code",
      "source": [
        "#Question 8\n",
        "def minimumScore(nums, k):\n",
        "    if len(nums) == 1:\n",
        "        return 0\n",
        "\n",
        "    minNum = float('inf')\n",
        "    maxNum = float('-inf')\n",
        "\n",
        "    for num in nums:\n",
        "        minNum = min(minNum, num)\n",
        "        maxNum = max(maxNum, num)\n",
        "\n",
        "    minScore = maxNum - minNum\n",
        "\n",
        "    for num in nums:\n",
        "        potentialMin = num - k\n",
        "        potentialMax = num + k\n",
        "        minScore = min(minScore, max(maxNum - potentialMin, potentialMax - minNum))\n",
        "\n",
        "    return minScore\n"
      ],
      "metadata": {
        "id": "GFHxgGJ21cw4"
      },
      "execution_count": 39,
      "outputs": []
    },
    {
      "cell_type": "code",
      "source": [
        "nums = [1]\n",
        "k = 0\n",
        "result = minimumScore(nums, k)\n",
        "print(result)  \n"
      ],
      "metadata": {
        "colab": {
          "base_uri": "https://localhost:8080/"
        },
        "id": "jVBJqsVx19J4",
        "outputId": "2dd85f55-f125-4d54-cd5f-9668e791494b"
      },
      "execution_count": 40,
      "outputs": [
        {
          "output_type": "stream",
          "name": "stdout",
          "text": [
            "0\n"
          ]
        }
      ]
    },
    {
      "cell_type": "code",
      "source": [],
      "metadata": {
        "id": "kwpWVDh-2BiY"
      },
      "execution_count": null,
      "outputs": []
    }
  ]
}